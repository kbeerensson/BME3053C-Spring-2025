{
  "nbformat": 4,
  "nbformat_minor": 0,
  "metadata": {
    "colab": {
      "provenance": [],
      "authorship_tag": "ABX9TyM+JiBuAlxZhc39UrLVE3fQ",
      "include_colab_link": true
    },
    "kernelspec": {
      "name": "python3",
      "display_name": "Python 3"
    },
    "language_info": {
      "name": "python"
    }
  },
  "cells": [
    {
      "cell_type": "markdown",
      "metadata": {
        "id": "view-in-github",
        "colab_type": "text"
      },
      "source": [
        "<a href=\"https://colab.research.google.com/github/kbeerensson/BME3053C-Spring-2025/blob/main/homework/Homework_2.ipynb\" target=\"_parent\"><img src=\"https://colab.research.google.com/assets/colab-badge.svg\" alt=\"Open In Colab\"/></a>"
      ]
    },
    {
      "cell_type": "code",
      "execution_count": 3,
      "metadata": {
        "colab": {
          "base_uri": "https://localhost:8080/"
        },
        "id": "MqYqZLLYqZAB",
        "outputId": "0145eb9c-6877-4e95-94ea-0169976bf48d"
      },
      "outputs": [
        {
          "output_type": "stream",
          "name": "stdout",
          "text": [
            "Normalized bp readings: [0.0, 0.3208, 0.5849, 0.0566, 0.7925, 1.0, 0.1321, 0.6415]\n"
          ]
        }
      ],
      "source": [
        "bp_readings = [120, 137, 151, 123, 162, 173, 127, 154]\n",
        "\n",
        "def normalize_bp(readings_list):\n",
        "  min_value = min(readings_list)\n",
        "  max_value = max(readings_list)\n",
        "  normalized_list = []\n",
        "  for i in range(len(readings_list)):\n",
        "    normalized_value = (readings_list[i]-min_value)/(max_value-min_value)\n",
        "    rounded_normalized_value = round(normalized_value,4)\n",
        "    normalized_list.append(rounded_normalized_value)\n",
        "  return normalized_list\n",
        "\n",
        "normalized_bp_readings = normalize_bp(bp_readings)\n",
        "print('Normalized bp readings:',normalized_bp_readings)"
      ]
    }
  ]
}