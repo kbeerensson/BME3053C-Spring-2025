{
  "nbformat": 4,
  "nbformat_minor": 0,
  "metadata": {
    "colab": {
      "provenance": [],
      "authorship_tag": "ABX9TyMMzc3/ic+kjv5Vu8ii23yZ",
      "include_colab_link": true
    },
    "kernelspec": {
      "name": "python3",
      "display_name": "Python 3"
    },
    "language_info": {
      "name": "python"
    }
  },
  "cells": [
    {
      "cell_type": "markdown",
      "metadata": {
        "id": "view-in-github",
        "colab_type": "text"
      },
      "source": [
        "<a href=\"https://colab.research.google.com/github/kbeerensson/BME3053C-Spring-2025/blob/main/homework/Homework_2.ipynb\" target=\"_parent\"><img src=\"https://colab.research.google.com/assets/colab-badge.svg\" alt=\"Open In Colab\"/></a>"
      ]
    },
    {
      "cell_type": "code",
      "execution_count": 4,
      "metadata": {
        "colab": {
          "base_uri": "https://localhost:8080/"
        },
        "id": "MqYqZLLYqZAB",
        "outputId": "b5154276-4032-4db4-d46a-4e1b210162ad"
      },
      "outputs": [
        {
          "output_type": "stream",
          "name": "stdout",
          "text": [
            "Normalized bp readings: [0.0, 0.32075471698113206, 0.5849056603773585, 0.05660377358490566, 0.7924528301886793, 1.0, 0.1320754716981132, 0.6415094339622641]\n"
          ]
        }
      ],
      "source": [
        "bp_readings = [120, 137, 151, 123, 162, 173, 127, 154]\n",
        "\n",
        "def normalize_bp(readings_list):\n",
        "  min_value = min(readings_list)\n",
        "  max_value = max(readings_list)\n",
        "  normalized_list = []\n",
        "  for i in range(len(readings_list)):\n",
        "    normalized_value = (readings_list[i]-min_value)/(max_value-min_value)\n",
        "    normalized_list.append(normalized_value)\n",
        "  return normalized_list\n",
        "\n",
        "normalized_bp_readings = normalize_bp(bp_readings)\n",
        "print('Normalized bp readings:',normalized_bp_readings)"
      ]
    }
  ]
}