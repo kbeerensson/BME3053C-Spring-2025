{
  "nbformat": 4,
  "nbformat_minor": 0,
  "metadata": {
    "colab": {
      "provenance": [],
      "authorship_tag": "ABX9TyPco2roeBPyLve7sGkyOdM9",
      "include_colab_link": true
    },
    "kernelspec": {
      "name": "python3",
      "display_name": "Python 3"
    },
    "language_info": {
      "name": "python"
    }
  },
  "cells": [
    {
      "cell_type": "markdown",
      "metadata": {
        "id": "view-in-github",
        "colab_type": "text"
      },
      "source": [
        "<a href=\"https://colab.research.google.com/github/kbeerensson/BME3053C-Spring-2025/blob/main/homework/Homework_3.ipynb\" target=\"_parent\"><img src=\"https://colab.research.google.com/assets/colab-badge.svg\" alt=\"Open In Colab\"/></a>"
      ]
    },
    {
      "cell_type": "code",
      "execution_count": 6,
      "metadata": {
        "colab": {
          "base_uri": "https://localhost:8080/"
        },
        "id": "8G9hjqfsBDG4",
        "outputId": "e1b32d16-49e8-44e1-e810-6a4afe863164"
      },
      "outputs": [
        {
          "output_type": "stream",
          "name": "stdout",
          "text": [
            "Total number of peaks: 28\n"
          ]
        }
      ],
      "source": [
        "import math\n",
        "import random\n",
        "\n",
        "ppg_signal = [1000 + 100 * math.sin(0.1 * x) + random.randint(-20, 20) for x in range(100)]\n",
        "\n",
        "def ppg_analysis(signal):\n",
        "  peak_count = 0\n",
        "  for i in range(1,len(signal)-1):\n",
        "    if signal[i] > signal[i - 1] and signal[i] > signal[i + 1]:\n",
        "      peak_count += 1\n",
        "  print('Total number of peaks:',peak_count)\n",
        "\n",
        "ppg_analysis(ppg_signal)"
      ]
    }
  ]
}